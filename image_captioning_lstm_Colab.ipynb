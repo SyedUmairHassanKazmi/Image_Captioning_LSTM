{
  "nbformat": 4,
  "nbformat_minor": 0,
  "metadata": {
    "kernelspec": {
      "language": "python",
      "display_name": "Python 3",
      "name": "python3"
    },
    "language_info": {
      "name": "python",
      "version": "3.7.10",
      "mimetype": "text/x-python",
      "codemirror_mode": {
        "name": "ipython",
        "version": 3
      },
      "pygments_lexer": "ipython3",
      "nbconvert_exporter": "python",
      "file_extension": ".py"
    },
    "colab": {
      "name": "image-captioning-lstm.ipynb",
      "provenance": [],
      "collapsed_sections": [
        "wSN6V2y_RzRD"
      ],
      "include_colab_link": true
    },
    "accelerator": "TPU"
  },
  "cells": [
    {
      "cell_type": "markdown",
      "metadata": {
        "id": "view-in-github",
        "colab_type": "text"
      },
      "source": [
        "<a href=\"https://colab.research.google.com/github/SyedUmairHassanKazmi/Image_Captioning_LSTM/blob/main/image_captioning_lstm.ipynb\" target=\"_parent\"><img src=\"https://colab.research.google.com/assets/colab-badge.svg\" alt=\"Open In Colab\"/></a>"
      ]
    },
    {
      "cell_type": "code",
      "metadata": {
        "colab": {
          "resources": {
            "http://localhost:8080/nbextensions/google.colab/files.js": {
              "data": "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",
              "ok": true,
              "headers": [
                [
                  "content-type",
                  "application/javascript"
                ]
              ],
              "status": 200,
              "status_text": ""
            }
          },
          "base_uri": "https://localhost:8080/",
          "height": 298
        },
        "id": "mIJGfTsrR1AE",
        "outputId": "717ed6cc-0777-486d-8581-e369605521e3"
      },
      "source": [
        "from google.colab import drive\n",
        "drive.mount('/content/gdrive')\n",
        "\n",
        "from google.colab import files\n",
        "files.upload()  #this will prompt you to upload the kaggle.json\n",
        "\n",
        "!pip install -q kaggle\n",
        "!mkdir -p ~/.kaggle\n",
        "!cp kaggle.json ~/.kaggle/\n",
        "!ls ~/.kaggle\n",
        "!chmod 600 /root/.kaggle/kaggle.json  # set permission\n",
        "\n",
        "!kaggle datasets download -d hsankesara/flickr-image-dataset\n",
        "\n",
        "! mkdir flickr30\n",
        "! unzip flickr-image-dataset.zip -d flickr30\n",
        "\n",
        "!kaggle datasets download -d syedumairhassankazmi/flickr30k-to-resnet50-dictionary\n",
        "\n",
        "! mkdir features\n",
        "! unzip flickr30k-to-resnet50-dictionary.zip -d features"
      ],
      "execution_count": null,
      "outputs": [
        {
          "output_type": "stream",
          "name": "stdout",
          "text": [
            "Drive already mounted at /content/gdrive; to attempt to forcibly remount, call drive.mount(\"/content/gdrive\", force_remount=True).\n"
          ]
        },
        {
          "output_type": "display_data",
          "data": {
            "text/html": [
              "\n",
              "     <input type=\"file\" id=\"files-fd70cdc9-778a-484d-a33e-d8fbf0198988\" name=\"files[]\" multiple disabled\n",
              "        style=\"border:none\" />\n",
              "     <output id=\"result-fd70cdc9-778a-484d-a33e-d8fbf0198988\">\n",
              "      Upload widget is only available when the cell has been executed in the\n",
              "      current browser session. Please rerun this cell to enable.\n",
              "      </output>\n",
              "      <script src=\"/nbextensions/google.colab/files.js\"></script> "
            ],
            "text/plain": [
              "<IPython.core.display.HTML object>"
            ]
          },
          "metadata": {}
        },
        {
          "output_type": "stream",
          "name": "stdout",
          "text": [
            "Saving kaggle.json to kaggle (1).json\n",
            "kaggle.json\n",
            "flickr-image-dataset.zip: Skipping, found more recently modified local copy (use --force to force download)\n",
            "mkdir: cannot create directory ‘flickr30’: File exists\n",
            "Archive:  flickr-image-dataset.zip\n",
            "replace flickr30/flickr30k_images/flickr30k_images/1000092795.jpg? [y]es, [n]o, [A]ll, [N]one, [r]ename: No\n",
            "N\n",
            "flickr30k-to-resnet50-dictionary.zip: Skipping, found more recently modified local copy (use --force to force download)\n",
            "mkdir: cannot create directory ‘features’: File exists\n",
            "Archive:  flickr30k-to-resnet50-dictionary.zip\n",
            "replace features/images_features.npy? [y]es, [n]o, [A]ll, [N]one, [r]ename: N\n"
          ]
        }
      ]
    },
    {
      "cell_type": "markdown",
      "metadata": {
        "id": "bQyb0jEfRzQV"
      },
      "source": [
        "# Importing Libraries and Turning on TPU"
      ]
    },
    {
      "cell_type": "markdown",
      "metadata": {
        "id": "NK4VudD1RzQh"
      },
      "source": [
        "**Importing**"
      ]
    },
    {
      "cell_type": "code",
      "metadata": {
        "execution": {
          "iopub.status.busy": "2021-10-09T03:49:34.861419Z",
          "iopub.execute_input": "2021-10-09T03:49:34.861916Z",
          "iopub.status.idle": "2021-10-09T03:49:42.525887Z",
          "shell.execute_reply.started": "2021-10-09T03:49:34.861764Z",
          "shell.execute_reply": "2021-10-09T03:49:42.524812Z"
        },
        "trusted": true,
        "id": "EPPYzLxiRzQk"
      },
      "source": [
        "import tensorflow as tf\n",
        "\n",
        "import matplotlib.pyplot as plt\n",
        "\n",
        "from sklearn.model_selection import train_test_split\n",
        "from sklearn.utils import shuffle\n",
        "\n",
        "import re\n",
        "import numpy as np\n",
        "import os\n",
        "import time\n",
        "import json\n",
        "import gc\n",
        "from glob import glob\n",
        "from PIL import Image\n",
        "import pickle\n",
        "import pandas as pd\n",
        "\n",
        "from tensorflow import keras\n",
        "from tensorflow.keras import layers\n",
        "from tensorflow.keras.applications import efficientnet\n",
        "\n",
        "import string \n",
        "from numpy import array\n",
        "\n",
        "\n",
        "import sys,warnings \n",
        "warnings.filterwarnings(\"ignore\")\n",
        "\n",
        "from tqdm import tqdm\n",
        "\n",
        "from nltk.translate.bleu_score import sentence_bleu\n",
        "\n",
        "from tensorflow.keras.applications import EfficientNetB0\n",
        "from tensorflow.keras.applications import EfficientNetB7\n",
        "from tensorflow.keras.applications import InceptionResNetV2\n",
        "from tensorflow.keras.applications import ResNet50\n",
        "import cv2 \n",
        "from glob import glob\n",
        "\n",
        "from tensorflow.keras.models import Model, Sequential\n",
        "from tensorflow.keras.preprocessing.sequence import pad_sequences\n",
        "from tensorflow.keras.utils import to_categorical\n",
        "from tensorflow.keras.utils import plot_model\n",
        "from tensorflow.keras.layers import Input\n",
        "from tensorflow.keras.layers import Dense, BatchNormalization\n",
        "from tensorflow.keras.layers import LSTM\n",
        "from tensorflow.keras.layers import Embedding\n",
        "from tensorflow.keras.layers import Dropout\n",
        "from tensorflow.keras.layers import add\n",
        "from tensorflow.keras.callbacks import ModelCheckpoint\n",
        "from tensorflow.keras.preprocessing.image import load_img, img_to_array\n",
        "from tensorflow.keras.preprocessing.text import Tokenizer\n",
        "from tensorflow.keras.callbacks import ModelCheckpoint\n",
        "from tensorflow.keras.layers import Dense, GRU, Flatten,Input, Convolution2D, Dropout, LSTM, TimeDistributed, Embedding, Bidirectional, Activation, RepeatVector,Concatenate\n",
        "from tensorflow.keras.optimizers import RMSprop, Adam\n",
        "from tensorflow.keras.losses import SparseCategoricalCrossentropy"
      ],
      "execution_count": null,
      "outputs": []
    },
    {
      "cell_type": "markdown",
      "metadata": {
        "id": "Bi-LXvNyRzQn"
      },
      "source": [
        "**Code to run on TPU**"
      ]
    },
    {
      "cell_type": "code",
      "metadata": {
        "execution": {
          "iopub.status.busy": "2021-10-09T03:49:42.528307Z",
          "iopub.execute_input": "2021-10-09T03:49:42.528844Z",
          "iopub.status.idle": "2021-10-09T03:49:48.398031Z",
          "shell.execute_reply.started": "2021-10-09T03:49:42.528801Z",
          "shell.execute_reply": "2021-10-09T03:49:48.396979Z"
        },
        "trusted": true,
        "colab": {
          "base_uri": "https://localhost:8080/"
        },
        "id": "KAwLsYQZRzQo",
        "outputId": "d45089f1-5043-44c7-bce1-a0cbf809b760"
      },
      "source": [
        "try:\n",
        "    # TPU detection. No parameters necessary if TPU_NAME environment variable is\n",
        "    # set: this is always the case on Kaggle.\n",
        "    tpu = tf.distribute.cluster_resolver.TPUClusterResolver()\n",
        "    print('Running on TPU ', tpu.master())\n",
        "except ValueError:\n",
        "    tpu = None\n",
        "\n",
        "if tpu:\n",
        "    tf.config.experimental_connect_to_cluster(tpu)\n",
        "    tf.tpu.experimental.initialize_tpu_system(tpu)\n",
        "    strategy = tf.distribute.experimental.TPUStrategy(tpu)\n",
        "else:\n",
        "    # Default distribution strategy in Tensorflow. Works on CPU and single GPU.\n",
        "    strategy = tf.distribute.get_strategy()\n",
        "\n",
        "print(\"REPLICAS: \", strategy.num_replicas_in_sync)"
      ],
      "execution_count": null,
      "outputs": [
        {
          "output_type": "stream",
          "name": "stdout",
          "text": [
            "Running on TPU  grpc://10.44.170.234:8470\n",
            "INFO:tensorflow:Clearing out eager caches\n"
          ]
        },
        {
          "output_type": "stream",
          "name": "stderr",
          "text": [
            "INFO:tensorflow:Clearing out eager caches\n"
          ]
        },
        {
          "output_type": "stream",
          "name": "stdout",
          "text": [
            "WARNING:tensorflow:TPU system grpc://10.44.170.234:8470 has already been initialized. Reinitializing the TPU can cause previously created variables on TPU to be lost.\n"
          ]
        },
        {
          "output_type": "stream",
          "name": "stderr",
          "text": [
            "WARNING:tensorflow:TPU system grpc://10.44.170.234:8470 has already been initialized. Reinitializing the TPU can cause previously created variables on TPU to be lost.\n"
          ]
        },
        {
          "output_type": "stream",
          "name": "stdout",
          "text": [
            "INFO:tensorflow:Initializing the TPU system: grpc://10.44.170.234:8470\n"
          ]
        },
        {
          "output_type": "stream",
          "name": "stderr",
          "text": [
            "INFO:tensorflow:Initializing the TPU system: grpc://10.44.170.234:8470\n"
          ]
        },
        {
          "output_type": "stream",
          "name": "stdout",
          "text": [
            "INFO:tensorflow:Finished initializing TPU system.\n"
          ]
        },
        {
          "output_type": "stream",
          "name": "stderr",
          "text": [
            "INFO:tensorflow:Finished initializing TPU system.\n",
            "WARNING:absl:`tf.distribute.experimental.TPUStrategy` is deprecated, please use  the non experimental symbol `tf.distribute.TPUStrategy` instead.\n"
          ]
        },
        {
          "output_type": "stream",
          "name": "stdout",
          "text": [
            "INFO:tensorflow:Found TPU system:\n"
          ]
        },
        {
          "output_type": "stream",
          "name": "stderr",
          "text": [
            "INFO:tensorflow:Found TPU system:\n"
          ]
        },
        {
          "output_type": "stream",
          "name": "stdout",
          "text": [
            "INFO:tensorflow:*** Num TPU Cores: 8\n"
          ]
        },
        {
          "output_type": "stream",
          "name": "stderr",
          "text": [
            "INFO:tensorflow:*** Num TPU Cores: 8\n"
          ]
        },
        {
          "output_type": "stream",
          "name": "stdout",
          "text": [
            "INFO:tensorflow:*** Num TPU Workers: 1\n"
          ]
        },
        {
          "output_type": "stream",
          "name": "stderr",
          "text": [
            "INFO:tensorflow:*** Num TPU Workers: 1\n"
          ]
        },
        {
          "output_type": "stream",
          "name": "stdout",
          "text": [
            "INFO:tensorflow:*** Num TPU Cores Per Worker: 8\n"
          ]
        },
        {
          "output_type": "stream",
          "name": "stderr",
          "text": [
            "INFO:tensorflow:*** Num TPU Cores Per Worker: 8\n"
          ]
        },
        {
          "output_type": "stream",
          "name": "stdout",
          "text": [
            "INFO:tensorflow:*** Available Device: _DeviceAttributes(/job:localhost/replica:0/task:0/device:CPU:0, CPU, 0, 0)\n"
          ]
        },
        {
          "output_type": "stream",
          "name": "stderr",
          "text": [
            "INFO:tensorflow:*** Available Device: _DeviceAttributes(/job:localhost/replica:0/task:0/device:CPU:0, CPU, 0, 0)\n"
          ]
        },
        {
          "output_type": "stream",
          "name": "stdout",
          "text": [
            "INFO:tensorflow:*** Available Device: _DeviceAttributes(/job:worker/replica:0/task:0/device:CPU:0, CPU, 0, 0)\n"
          ]
        },
        {
          "output_type": "stream",
          "name": "stderr",
          "text": [
            "INFO:tensorflow:*** Available Device: _DeviceAttributes(/job:worker/replica:0/task:0/device:CPU:0, CPU, 0, 0)\n"
          ]
        },
        {
          "output_type": "stream",
          "name": "stdout",
          "text": [
            "INFO:tensorflow:*** Available Device: _DeviceAttributes(/job:worker/replica:0/task:0/device:TPU:0, TPU, 0, 0)\n"
          ]
        },
        {
          "output_type": "stream",
          "name": "stderr",
          "text": [
            "INFO:tensorflow:*** Available Device: _DeviceAttributes(/job:worker/replica:0/task:0/device:TPU:0, TPU, 0, 0)\n"
          ]
        },
        {
          "output_type": "stream",
          "name": "stdout",
          "text": [
            "INFO:tensorflow:*** Available Device: _DeviceAttributes(/job:worker/replica:0/task:0/device:TPU:1, TPU, 0, 0)\n"
          ]
        },
        {
          "output_type": "stream",
          "name": "stderr",
          "text": [
            "INFO:tensorflow:*** Available Device: _DeviceAttributes(/job:worker/replica:0/task:0/device:TPU:1, TPU, 0, 0)\n"
          ]
        },
        {
          "output_type": "stream",
          "name": "stdout",
          "text": [
            "INFO:tensorflow:*** Available Device: _DeviceAttributes(/job:worker/replica:0/task:0/device:TPU:2, TPU, 0, 0)\n"
          ]
        },
        {
          "output_type": "stream",
          "name": "stderr",
          "text": [
            "INFO:tensorflow:*** Available Device: _DeviceAttributes(/job:worker/replica:0/task:0/device:TPU:2, TPU, 0, 0)\n"
          ]
        },
        {
          "output_type": "stream",
          "name": "stdout",
          "text": [
            "INFO:tensorflow:*** Available Device: _DeviceAttributes(/job:worker/replica:0/task:0/device:TPU:3, TPU, 0, 0)\n"
          ]
        },
        {
          "output_type": "stream",
          "name": "stderr",
          "text": [
            "INFO:tensorflow:*** Available Device: _DeviceAttributes(/job:worker/replica:0/task:0/device:TPU:3, TPU, 0, 0)\n"
          ]
        },
        {
          "output_type": "stream",
          "name": "stdout",
          "text": [
            "INFO:tensorflow:*** Available Device: _DeviceAttributes(/job:worker/replica:0/task:0/device:TPU:4, TPU, 0, 0)\n"
          ]
        },
        {
          "output_type": "stream",
          "name": "stderr",
          "text": [
            "INFO:tensorflow:*** Available Device: _DeviceAttributes(/job:worker/replica:0/task:0/device:TPU:4, TPU, 0, 0)\n"
          ]
        },
        {
          "output_type": "stream",
          "name": "stdout",
          "text": [
            "INFO:tensorflow:*** Available Device: _DeviceAttributes(/job:worker/replica:0/task:0/device:TPU:5, TPU, 0, 0)\n"
          ]
        },
        {
          "output_type": "stream",
          "name": "stderr",
          "text": [
            "INFO:tensorflow:*** Available Device: _DeviceAttributes(/job:worker/replica:0/task:0/device:TPU:5, TPU, 0, 0)\n"
          ]
        },
        {
          "output_type": "stream",
          "name": "stdout",
          "text": [
            "INFO:tensorflow:*** Available Device: _DeviceAttributes(/job:worker/replica:0/task:0/device:TPU:6, TPU, 0, 0)\n"
          ]
        },
        {
          "output_type": "stream",
          "name": "stderr",
          "text": [
            "INFO:tensorflow:*** Available Device: _DeviceAttributes(/job:worker/replica:0/task:0/device:TPU:6, TPU, 0, 0)\n"
          ]
        },
        {
          "output_type": "stream",
          "name": "stdout",
          "text": [
            "INFO:tensorflow:*** Available Device: _DeviceAttributes(/job:worker/replica:0/task:0/device:TPU:7, TPU, 0, 0)\n"
          ]
        },
        {
          "output_type": "stream",
          "name": "stderr",
          "text": [
            "INFO:tensorflow:*** Available Device: _DeviceAttributes(/job:worker/replica:0/task:0/device:TPU:7, TPU, 0, 0)\n"
          ]
        },
        {
          "output_type": "stream",
          "name": "stdout",
          "text": [
            "INFO:tensorflow:*** Available Device: _DeviceAttributes(/job:worker/replica:0/task:0/device:TPU_SYSTEM:0, TPU_SYSTEM, 0, 0)\n"
          ]
        },
        {
          "output_type": "stream",
          "name": "stderr",
          "text": [
            "INFO:tensorflow:*** Available Device: _DeviceAttributes(/job:worker/replica:0/task:0/device:TPU_SYSTEM:0, TPU_SYSTEM, 0, 0)\n"
          ]
        },
        {
          "output_type": "stream",
          "name": "stdout",
          "text": [
            "INFO:tensorflow:*** Available Device: _DeviceAttributes(/job:worker/replica:0/task:0/device:XLA_CPU:0, XLA_CPU, 0, 0)\n"
          ]
        },
        {
          "output_type": "stream",
          "name": "stderr",
          "text": [
            "INFO:tensorflow:*** Available Device: _DeviceAttributes(/job:worker/replica:0/task:0/device:XLA_CPU:0, XLA_CPU, 0, 0)\n"
          ]
        },
        {
          "output_type": "stream",
          "name": "stdout",
          "text": [
            "REPLICAS:  8\n"
          ]
        }
      ]
    },
    {
      "cell_type": "code",
      "metadata": {
        "execution": {
          "iopub.status.busy": "2021-10-09T03:49:50.568206Z",
          "iopub.execute_input": "2021-10-09T03:49:50.568479Z",
          "iopub.status.idle": "2021-10-09T03:49:50.573153Z",
          "shell.execute_reply.started": "2021-10-09T03:49:50.568448Z",
          "shell.execute_reply": "2021-10-09T03:49:50.572088Z"
        },
        "trusted": true,
        "colab": {
          "base_uri": "https://localhost:8080/"
        },
        "id": "234-g9mwRzQw",
        "outputId": "50f4b32e-1b1c-43e1-9bc0-8ac80790b1f7"
      },
      "source": [
        "BATCH_SIZE = 64 * strategy.num_replicas_in_sync\n",
        "print(BATCH_SIZE)"
      ],
      "execution_count": null,
      "outputs": [
        {
          "output_type": "stream",
          "name": "stdout",
          "text": [
            "512\n"
          ]
        }
      ]
    },
    {
      "cell_type": "markdown",
      "metadata": {
        "id": "w8ZHtkgqRzQx"
      },
      "source": [
        "#  Data Preprocessing"
      ]
    },
    {
      "cell_type": "code",
      "metadata": {
        "execution": {
          "iopub.status.busy": "2021-10-09T03:49:50.574390Z",
          "iopub.execute_input": "2021-10-09T03:49:50.574695Z",
          "iopub.status.idle": "2021-10-09T03:49:51.345766Z",
          "shell.execute_reply.started": "2021-10-09T03:49:50.574660Z",
          "shell.execute_reply": "2021-10-09T03:49:51.344708Z"
        },
        "trusted": true,
        "colab": {
          "base_uri": "https://localhost:8080/",
          "height": 1000
        },
        "id": "dTTy2KQ2RzQz",
        "outputId": "323aa4fb-81d9-407a-dc1a-a14a3695ae2f"
      },
      "source": [
        "#Image Path\n",
        "# Image path given ------ used glob to get list of all images\n",
        "image_path = \"/content/flickr30/flickr30k_images/flickr30k_images/\"\n",
        "jpgs = os.listdir(image_path)\n",
        "images = glob(image_path+'*.jpg')\n",
        "\n",
        "\n",
        "\n",
        "#Caption Path\n",
        "# Read the captions with Pandas ---- changed coloumn names\n",
        "caption_path = '/content/flickr30/flickr30k_images/results.csv'\n",
        "captions = pd.read_csv(caption_path, sep = '|')\n",
        "df = pd.DataFrame(captions)\n",
        "df = df.rename(columns={'image_name' : 'filename',' comment_number': 'index', ' comment': 'caption'}, inplace = False)\n",
        "df = df.reindex(columns =['index','filename','caption'])\n",
        "data = df[df['caption'].notnull()]\n",
        "\n",
        "\n",
        "\n",
        "#Printing DataFrame\n",
        "# DataFrame name is Data\n",
        "print(\"Total Images in Dataset = {}\".format(len(jpgs)))\n",
        "data"
      ],
      "execution_count": null,
      "outputs": [
        {
          "output_type": "stream",
          "name": "stdout",
          "text": [
            "Total Images in Dataset = 31785\n"
          ]
        },
        {
          "output_type": "execute_result",
          "data": {
            "text/html": [
              "<div>\n",
              "<style scoped>\n",
              "    .dataframe tbody tr th:only-of-type {\n",
              "        vertical-align: middle;\n",
              "    }\n",
              "\n",
              "    .dataframe tbody tr th {\n",
              "        vertical-align: top;\n",
              "    }\n",
              "\n",
              "    .dataframe thead th {\n",
              "        text-align: right;\n",
              "    }\n",
              "</style>\n",
              "<table border=\"1\" class=\"dataframe\">\n",
              "  <thead>\n",
              "    <tr style=\"text-align: right;\">\n",
              "      <th></th>\n",
              "      <th>index</th>\n",
              "      <th>filename</th>\n",
              "      <th>caption</th>\n",
              "    </tr>\n",
              "  </thead>\n",
              "  <tbody>\n",
              "    <tr>\n",
              "      <th>0</th>\n",
              "      <td>0</td>\n",
              "      <td>1000092795.jpg</td>\n",
              "      <td>Two young guys with shaggy hair look at their...</td>\n",
              "    </tr>\n",
              "    <tr>\n",
              "      <th>1</th>\n",
              "      <td>1</td>\n",
              "      <td>1000092795.jpg</td>\n",
              "      <td>Two young , White males are outside near many...</td>\n",
              "    </tr>\n",
              "    <tr>\n",
              "      <th>2</th>\n",
              "      <td>2</td>\n",
              "      <td>1000092795.jpg</td>\n",
              "      <td>Two men in green shirts are standing in a yard .</td>\n",
              "    </tr>\n",
              "    <tr>\n",
              "      <th>3</th>\n",
              "      <td>3</td>\n",
              "      <td>1000092795.jpg</td>\n",
              "      <td>A man in a blue shirt standing in a garden .</td>\n",
              "    </tr>\n",
              "    <tr>\n",
              "      <th>4</th>\n",
              "      <td>4</td>\n",
              "      <td>1000092795.jpg</td>\n",
              "      <td>Two friends enjoy time spent together .</td>\n",
              "    </tr>\n",
              "    <tr>\n",
              "      <th>...</th>\n",
              "      <td>...</td>\n",
              "      <td>...</td>\n",
              "      <td>...</td>\n",
              "    </tr>\n",
              "    <tr>\n",
              "      <th>158910</th>\n",
              "      <td>0</td>\n",
              "      <td>998845445.jpg</td>\n",
              "      <td>A man in shorts and a Hawaiian shirt leans ov...</td>\n",
              "    </tr>\n",
              "    <tr>\n",
              "      <th>158911</th>\n",
              "      <td>1</td>\n",
              "      <td>998845445.jpg</td>\n",
              "      <td>A young man hanging over the side of a boat ,...</td>\n",
              "    </tr>\n",
              "    <tr>\n",
              "      <th>158912</th>\n",
              "      <td>2</td>\n",
              "      <td>998845445.jpg</td>\n",
              "      <td>A man is leaning off of the side of a blue an...</td>\n",
              "    </tr>\n",
              "    <tr>\n",
              "      <th>158913</th>\n",
              "      <td>3</td>\n",
              "      <td>998845445.jpg</td>\n",
              "      <td>A man riding a small boat in a harbor , with ...</td>\n",
              "    </tr>\n",
              "    <tr>\n",
              "      <th>158914</th>\n",
              "      <td>4</td>\n",
              "      <td>998845445.jpg</td>\n",
              "      <td>A man on a moored blue and white boat with hi...</td>\n",
              "    </tr>\n",
              "  </tbody>\n",
              "</table>\n",
              "<p>158914 rows × 3 columns</p>\n",
              "</div>"
            ],
            "text/plain": [
              "       index        filename                                            caption\n",
              "0          0  1000092795.jpg   Two young guys with shaggy hair look at their...\n",
              "1          1  1000092795.jpg   Two young , White males are outside near many...\n",
              "2          2  1000092795.jpg   Two men in green shirts are standing in a yard .\n",
              "3          3  1000092795.jpg       A man in a blue shirt standing in a garden .\n",
              "4          4  1000092795.jpg            Two friends enjoy time spent together .\n",
              "...      ...             ...                                                ...\n",
              "158910     0   998845445.jpg   A man in shorts and a Hawaiian shirt leans ov...\n",
              "158911     1   998845445.jpg   A young man hanging over the side of a boat ,...\n",
              "158912     2   998845445.jpg   A man is leaning off of the side of a blue an...\n",
              "158913     3   998845445.jpg   A man riding a small boat in a harbor , with ...\n",
              "158914     4   998845445.jpg   A man on a moored blue and white boat with hi...\n",
              "\n",
              "[158914 rows x 3 columns]"
            ]
          },
          "metadata": {},
          "execution_count": 52
        }
      ]
    },
    {
      "cell_type": "code",
      "metadata": {
        "execution": {
          "iopub.status.busy": "2021-10-09T03:49:51.347043Z",
          "iopub.execute_input": "2021-10-09T03:49:51.347291Z",
          "iopub.status.idle": "2021-10-09T03:49:51.441863Z",
          "shell.execute_reply.started": "2021-10-09T03:49:51.347262Z",
          "shell.execute_reply": "2021-10-09T03:49:51.440810Z"
        },
        "trusted": true,
        "id": "9eMzSgRKRzQ2"
      },
      "source": [
        "# Made a list of images, above list had sets of images, this also has replciated images \n",
        "# ( 5 same image paths of 5 captions)\n",
        "all_img_name_vector = []\n",
        "for annot in data[\"filename\"]:\n",
        "   full_image_path = image_path + annot\n",
        "   all_img_name_vector.append(full_image_path)"
      ],
      "execution_count": null,
      "outputs": []
    },
    {
      "cell_type": "code",
      "metadata": {
        "execution": {
          "iopub.status.busy": "2021-10-09T03:49:51.443518Z",
          "iopub.execute_input": "2021-10-09T03:49:51.444203Z",
          "iopub.status.idle": "2021-10-09T03:49:51.451759Z",
          "shell.execute_reply.started": "2021-10-09T03:49:51.444150Z",
          "shell.execute_reply": "2021-10-09T03:49:51.450836Z"
        },
        "trusted": true,
        "colab": {
          "base_uri": "https://localhost:8080/"
        },
        "id": "fL06tFQoRzQ3",
        "outputId": "24672043-1034-4803-96f8-956d0271e1e2"
      },
      "source": [
        "#To know lenght of list\n",
        "len(all_img_name_vector)"
      ],
      "execution_count": null,
      "outputs": [
        {
          "output_type": "execute_result",
          "data": {
            "text/plain": [
              "158914"
            ]
          },
          "metadata": {},
          "execution_count": 54
        }
      ]
    },
    {
      "cell_type": "markdown",
      "metadata": {
        "id": "NkRjmLRNRzQ3"
      },
      "source": [
        "### IMAGE FEATURES PREPROCESSING\n",
        "##### Used all these codes to get images features, made a dictionary out of them \n",
        "##### and then saved them\n",
        "##### commiting all code lines, uploading the file on kaggle and then just loading the dictionary back\n",
        "##### to save time for multiple runs\n",
        "##### also for some path reason i ran the image feature code on gpu, will run the rest on tpu"
      ]
    },
    {
      "cell_type": "markdown",
      "metadata": {
        "id": "3jPP-7DqRzQ4"
      },
      "source": [
        "Made a new list which has the filnames for output destination"
      ]
    },
    {
      "cell_type": "code",
      "metadata": {
        "execution": {
          "iopub.status.busy": "2021-10-09T03:49:51.453558Z",
          "iopub.execute_input": "2021-10-09T03:49:51.453910Z",
          "iopub.status.idle": "2021-10-09T03:49:51.462184Z",
          "shell.execute_reply.started": "2021-10-09T03:49:51.453863Z",
          "shell.execute_reply": "2021-10-09T03:49:51.460905Z"
        },
        "trusted": true,
        "id": "DYxTD_OsRzQ5"
      },
      "source": [
        "\n",
        "# from tqdm import tqdm, tqdm_notebook\n",
        "# tqdm.pandas()\n",
        "\n",
        "# def out_path_fn(text):\n",
        "#     return './image_features/' + str(text)\n",
        "\n",
        "# data['out_path'] = data['filename'].progress_apply(out_path_fn)\n",
        "# #data.out_path.values[:6]\n",
        "\n",
        "# #-----------------------------------------#\n",
        "\n",
        "# out_path = []\n",
        "# for path in data[\"out_path\"].astype(str):\n",
        "#    out_path.append(path)\n",
        "# out_path = sorted(set(out_path))\n",
        "# print(out_path[:6])"
      ],
      "execution_count": null,
      "outputs": []
    },
    {
      "cell_type": "markdown",
      "metadata": {
        "id": "MZ83t-IERzQ5"
      },
      "source": [
        "some code to check code and make directory"
      ]
    },
    {
      "cell_type": "code",
      "metadata": {
        "execution": {
          "iopub.status.busy": "2021-10-09T03:49:51.463743Z",
          "iopub.execute_input": "2021-10-09T03:49:51.464068Z",
          "iopub.status.idle": "2021-10-09T03:49:51.476097Z",
          "shell.execute_reply.started": "2021-10-09T03:49:51.464034Z",
          "shell.execute_reply": "2021-10-09T03:49:51.475102Z"
        },
        "trusted": true,
        "id": "Hzop5x9XRzQ6"
      },
      "source": [
        "#tf.strings.split(images[0], sep='/')[-1]\n",
        "#'./image_features/' + tf.strings.split(images[0], sep='/')[-1]\n",
        "#os.makedirs('./image_features')"
      ],
      "execution_count": null,
      "outputs": []
    },
    {
      "cell_type": "markdown",
      "metadata": {
        "id": "8SkhmttoRzQ6"
      },
      "source": [
        "Made a fn and a model ---- passed them through a pipeline -------- saved all values ----- made a dictionary --------- saved the dictionary"
      ]
    },
    {
      "cell_type": "code",
      "metadata": {
        "execution": {
          "iopub.status.busy": "2021-10-09T03:49:51.477768Z",
          "iopub.execute_input": "2021-10-09T03:49:51.478753Z",
          "iopub.status.idle": "2021-10-09T03:49:51.490581Z",
          "shell.execute_reply.started": "2021-10-09T03:49:51.478709Z",
          "shell.execute_reply": "2021-10-09T03:49:51.489278Z"
        },
        "trusted": true,
        "id": "FBi4f7NURzQ9"
      },
      "source": [
        "# def load_image(image_path):\n",
        "#    img = tf.io.read_file(image_path)\n",
        "#    img = tf.image.decode_jpeg(img, channels=3)\n",
        "#    img = tf.image.resize(img, (224, 224))\n",
        "#    img = tf.keras.applications.resnet.preprocess_input(img)\n",
        "#    image_path = './image_features/' + tf.strings.split(image_path, sep='/')[-1]\n",
        "#    return img, image_path\n",
        "\n",
        "#extract_model = tf.keras.applications.ResNet50(include_top=True)\n",
        "#last = extract_model.layers[-2].output\n",
        "#image_features_extract_model = Model(inputs = extract_model.input,outputs = last)\n",
        "##image_features_extract_model.summary()"
      ],
      "execution_count": null,
      "outputs": []
    },
    {
      "cell_type": "code",
      "metadata": {
        "execution": {
          "iopub.status.busy": "2021-10-09T03:49:51.492263Z",
          "iopub.execute_input": "2021-10-09T03:49:51.492587Z",
          "iopub.status.idle": "2021-10-09T03:49:51.501888Z",
          "shell.execute_reply.started": "2021-10-09T03:49:51.492540Z",
          "shell.execute_reply": "2021-10-09T03:49:51.500698Z"
        },
        "trusted": true,
        "id": "sldPQtBZRzQ-"
      },
      "source": [
        "# images = sorted(images)\n",
        "# image_dataset = tf.data.Dataset.from_tensor_slices(images)\n",
        "# image_dataset = image_dataset.map(load_image, num_parallel_calls=tf.data.experimental.AUTOTUNE).batch(1)"
      ],
      "execution_count": null,
      "outputs": []
    },
    {
      "cell_type": "code",
      "metadata": {
        "execution": {
          "iopub.status.busy": "2021-10-09T03:49:51.503161Z",
          "iopub.execute_input": "2021-10-09T03:49:51.504045Z",
          "iopub.status.idle": "2021-10-09T03:49:51.515010Z",
          "shell.execute_reply.started": "2021-10-09T03:49:51.503999Z",
          "shell.execute_reply": "2021-10-09T03:49:51.513610Z"
        },
        "trusted": true,
        "id": "QyN6izkORzQ_"
      },
      "source": [
        "# for img,path in image_dataset.take(3):\n",
        "#    print(path)"
      ],
      "execution_count": null,
      "outputs": []
    },
    {
      "cell_type": "code",
      "metadata": {
        "execution": {
          "iopub.status.busy": "2021-10-09T03:49:51.518550Z",
          "iopub.execute_input": "2021-10-09T03:49:51.518866Z",
          "iopub.status.idle": "2021-10-09T03:49:51.526575Z",
          "shell.execute_reply.started": "2021-10-09T03:49:51.518828Z",
          "shell.execute_reply": "2021-10-09T03:49:51.525514Z"
        },
        "trusted": true,
        "id": "1UOQ0Cx5RzQ_"
      },
      "source": [
        "# %%time\n",
        "# for img, path in tqdm(image_dataset):\n",
        "#     batch_features = image_features_extract_model(img)\n",
        "#     batch_features = tf.reshape(batch_features,\n",
        "#                               (2048, )) # batch_features.shape[0], -1, batch_features.shape[3]\n",
        "#     #print(batch_features)\n",
        "    \n",
        "#     for bf, p in zip([batch_features], path):\n",
        "#         #print(bf, p)\n",
        "#         path_of_feature = p.numpy().decode(\"utf-8\")\n",
        "#         np.save(path_of_feature, bf.numpy())\n",
        "#         #print(path_of_feature, bf.numpy())"
      ],
      "execution_count": null,
      "outputs": []
    },
    {
      "cell_type": "code",
      "metadata": {
        "execution": {
          "iopub.status.busy": "2021-10-09T03:49:51.528158Z",
          "iopub.execute_input": "2021-10-09T03:49:51.528571Z",
          "iopub.status.idle": "2021-10-09T03:49:51.543674Z",
          "shell.execute_reply.started": "2021-10-09T03:49:51.528535Z",
          "shell.execute_reply": "2021-10-09T03:49:51.542524Z"
        },
        "trusted": true,
        "id": "49jeuUhXRzRA"
      },
      "source": [
        "# images_features = {}\n",
        "# count = 0\n",
        "# for i in out_path:\n",
        "#     img_feature = np.load(i + '.npy')\n",
        "#     img_name = i.split('/')[-1]\n",
        "    \n",
        "#     images_features[img_name] = img_feature\n",
        "# len(images_features)    "
      ],
      "execution_count": null,
      "outputs": []
    },
    {
      "cell_type": "code",
      "metadata": {
        "execution": {
          "iopub.status.busy": "2021-10-09T03:49:51.545299Z",
          "iopub.execute_input": "2021-10-09T03:49:51.546296Z",
          "iopub.status.idle": "2021-10-09T03:49:51.555225Z",
          "shell.execute_reply.started": "2021-10-09T03:49:51.546239Z",
          "shell.execute_reply": "2021-10-09T03:49:51.554036Z"
        },
        "trusted": true,
        "id": "Y8gONm1KRzRB"
      },
      "source": [
        "# np.save('images_features.npy',images_features)"
      ],
      "execution_count": null,
      "outputs": []
    },
    {
      "cell_type": "markdown",
      "metadata": {
        "id": "i_731TM4RzRB"
      },
      "source": [
        "Now, reloading the dictionary "
      ]
    },
    {
      "cell_type": "code",
      "metadata": {
        "execution": {
          "iopub.status.busy": "2021-10-09T03:49:51.557177Z",
          "iopub.execute_input": "2021-10-09T03:49:51.557669Z",
          "iopub.status.idle": "2021-10-09T03:49:56.168232Z",
          "shell.execute_reply.started": "2021-10-09T03:49:51.557607Z",
          "shell.execute_reply": "2021-10-09T03:49:56.167153Z"
        },
        "trusted": true,
        "id": "_0L62mySRzRC"
      },
      "source": [
        "# URL : https://www.kaggle.com/syedumairhassankazmi/flickr30k-to-resnet50-dictionary\n",
        "# Inputted the data from the above URL\n",
        "\n",
        "images_features = np.load('/content/features/images_features.npy' , allow_pickle = True)"
      ],
      "execution_count": null,
      "outputs": []
    },
    {
      "cell_type": "code",
      "metadata": {
        "execution": {
          "iopub.status.busy": "2021-10-09T03:49:56.170138Z",
          "iopub.execute_input": "2021-10-09T03:49:56.170548Z",
          "iopub.status.idle": "2021-10-09T03:49:56.184028Z",
          "shell.execute_reply.started": "2021-10-09T03:49:56.170478Z",
          "shell.execute_reply": "2021-10-09T03:49:56.182664Z"
        },
        "trusted": true,
        "id": "gvPwPwnYRzRC"
      },
      "source": [
        "##  get image features dictionary out of numpy ndarray\n",
        "\n",
        "images_features = np.reshape(images_features, (-1))\n",
        "images_features = images_features[0]\n",
        "\n",
        "### get image features list\n",
        "\n",
        "images_features_list  = list(images_features.values())"
      ],
      "execution_count": null,
      "outputs": []
    },
    {
      "cell_type": "code",
      "metadata": {
        "execution": {
          "iopub.status.busy": "2021-10-09T03:49:56.186038Z",
          "iopub.execute_input": "2021-10-09T03:49:56.186443Z",
          "iopub.status.idle": "2021-10-09T03:49:56.197553Z",
          "shell.execute_reply.started": "2021-10-09T03:49:56.186392Z",
          "shell.execute_reply": "2021-10-09T03:49:56.196359Z"
        },
        "trusted": true,
        "colab": {
          "base_uri": "https://localhost:8080/"
        },
        "id": "gD5otMivRzRC",
        "outputId": "d3aa53aa-f1d4-4ac6-d02f-722402f0547d"
      },
      "source": [
        "## some code for code checking\n",
        "\n",
        "print(images_features['10002456.jpg'])\n",
        "print(len(images_features['10002456.jpg']))\n",
        "print(len(images_features))\n"
      ],
      "execution_count": null,
      "outputs": [
        {
          "output_type": "stream",
          "name": "stdout",
          "text": [
            "[0.18348733 0.26369268 0.7454376  ... 1.7963673  1.408203   0.01206312]\n",
            "2048\n",
            "31783\n"
          ]
        }
      ]
    },
    {
      "cell_type": "markdown",
      "metadata": {
        "id": "wSN6V2y_RzRD"
      },
      "source": [
        "### Captions Preprocessing"
      ]
    },
    {
      "cell_type": "code",
      "metadata": {
        "execution": {
          "iopub.status.busy": "2021-10-09T03:49:56.199443Z",
          "iopub.execute_input": "2021-10-09T03:49:56.199849Z",
          "iopub.status.idle": "2021-10-09T03:49:56.209562Z",
          "shell.execute_reply.started": "2021-10-09T03:49:56.199802Z",
          "shell.execute_reply": "2021-10-09T03:49:56.208660Z"
        },
        "trusted": true,
        "id": "Hzoydh7TRzRD"
      },
      "source": [
        "#Some functions to make cleaner captions\n",
        "\n",
        "# To remove punctuations\n",
        "def remove_punctuation(text_original):\n",
        "    text_no_punctuation = text_original.translate(string.punctuation)\n",
        "    return(text_no_punctuation)\n",
        "\n",
        "# To remove single characters\n",
        "def remove_single_character(text):\n",
        "    text_len_more_than1 = \"\"\n",
        "    for word in text.split():\n",
        "        if len(word) > 1:\n",
        "            text_len_more_than1 += \" \" + word\n",
        "    return(text_len_more_than1)\n",
        "\n",
        "# To remove numeric values\n",
        "def remove_numeric(text):\n",
        "    text_no_numeric = \"\"\n",
        "    for word in text.split():\n",
        "        isalpha = word.isalpha()\n",
        "        if isalpha:\n",
        "            text_no_numeric += \" \" + word\n",
        "    return(text_no_numeric)\n"
      ],
      "execution_count": null,
      "outputs": []
    },
    {
      "cell_type": "code",
      "metadata": {
        "execution": {
          "iopub.status.busy": "2021-10-09T03:49:56.210716Z",
          "iopub.execute_input": "2021-10-09T03:49:56.210958Z",
          "iopub.status.idle": "2021-10-09T03:56:13.276662Z",
          "shell.execute_reply.started": "2021-10-09T03:49:56.210932Z",
          "shell.execute_reply": "2021-10-09T03:56:13.275370Z"
        },
        "trusted": true,
        "id": "gOheZwlpRzRE"
      },
      "source": [
        "#Applying those functions\n",
        "\n",
        "def text_clean(text_original):\n",
        "    text = remove_punctuation(text_original)\n",
        "    text = remove_single_character(text)\n",
        "    text = remove_numeric(text)\n",
        "    return(text)\n",
        "    \n",
        "for i, caption in enumerate(data.caption.values):\n",
        "    newcaption = text_clean(caption)\n",
        "    data[\"caption\"].iloc[i] = newcaption"
      ],
      "execution_count": null,
      "outputs": []
    },
    {
      "cell_type": "code",
      "metadata": {
        "execution": {
          "iopub.status.busy": "2021-10-09T03:56:13.278759Z",
          "iopub.execute_input": "2021-10-09T03:56:13.279265Z",
          "iopub.status.idle": "2021-10-09T03:56:13.647435Z",
          "shell.execute_reply.started": "2021-10-09T03:56:13.279203Z",
          "shell.execute_reply": "2021-10-09T03:56:13.646459Z"
        },
        "trusted": true,
        "colab": {
          "base_uri": "https://localhost:8080/"
        },
        "id": "PbR26ZUZRzRF",
        "outputId": "da685235-c658-4241-8a64-0e3b449e2042"
      },
      "source": [
        "#Adding start and end token\n",
        "from tqdm import tqdm, tqdm_notebook\n",
        "tqdm.pandas()\n",
        "START_TOKEN = '<start> '\n",
        "END_TOKEN = ' <end>'\n",
        "\n",
        "def add_start_end(text):\n",
        "    return START_TOKEN + str(text) + END_TOKEN\n",
        "\n",
        "data['caption'] = data['caption'].progress_apply(add_start_end)\n",
        "data.caption.values[:6]"
      ],
      "execution_count": null,
      "outputs": [
        {
          "output_type": "stream",
          "name": "stderr",
          "text": [
            "100%|██████████| 158914/158914 [00:00<00:00, 569537.90it/s]\n"
          ]
        },
        {
          "output_type": "execute_result",
          "data": {
            "text/plain": [
              "array(['<start>  Two young guys with shaggy hair look at their hands while hanging out in the yard <end>',\n",
              "       '<start>  Two young White males are outside near many bushes <end>',\n",
              "       '<start>  Two men in green shirts are standing in yard <end>',\n",
              "       '<start>  man in blue shirt standing in garden <end>',\n",
              "       '<start>  Two friends enjoy time spent together <end>',\n",
              "       '<start>  Several men in hard hats are operating giant pulley system <end>'],\n",
              "      dtype=object)"
            ]
          },
          "metadata": {},
          "execution_count": 68
        }
      ]
    },
    {
      "cell_type": "code",
      "metadata": {
        "execution": {
          "iopub.status.busy": "2021-10-09T03:56:13.648802Z",
          "iopub.execute_input": "2021-10-09T03:56:13.649079Z",
          "iopub.status.idle": "2021-10-09T03:56:13.654404Z",
          "shell.execute_reply.started": "2021-10-09T03:56:13.649034Z",
          "shell.execute_reply": "2021-10-09T03:56:13.653517Z"
        },
        "trusted": true,
        "id": "i3S03gpIRzRH"
      },
      "source": [
        "#Making a list of captions out of the pandas dict\n",
        "captions_list = data['caption']\n",
        "#captions_list[-20:-10]"
      ],
      "execution_count": null,
      "outputs": []
    },
    {
      "cell_type": "code",
      "metadata": {
        "execution": {
          "iopub.status.busy": "2021-10-09T03:56:13.655721Z",
          "iopub.execute_input": "2021-10-09T03:56:13.655990Z",
          "iopub.status.idle": "2021-10-09T03:56:13.669709Z",
          "shell.execute_reply.started": "2021-10-09T03:56:13.655957Z",
          "shell.execute_reply": "2021-10-09T03:56:13.668565Z"
        },
        "trusted": true,
        "colab": {
          "base_uri": "https://localhost:8080/"
        },
        "id": "D_v1jbQhRzRH",
        "outputId": "874e6731-9a0b-4126-bc5b-786e253f4b32"
      },
      "source": [
        "len(captions_list)\n",
        "#print(captions_dict)"
      ],
      "execution_count": null,
      "outputs": [
        {
          "output_type": "execute_result",
          "data": {
            "text/plain": [
              "158914"
            ]
          },
          "metadata": {},
          "execution_count": 70
        }
      ]
    },
    {
      "cell_type": "markdown",
      "metadata": {
        "id": "GP4Y-MEjRzRH"
      },
      "source": [
        "# Tokenizing"
      ]
    },
    {
      "cell_type": "code",
      "metadata": {
        "execution": {
          "iopub.status.busy": "2021-10-09T03:56:13.671349Z",
          "iopub.execute_input": "2021-10-09T03:56:13.671680Z",
          "iopub.status.idle": "2021-10-09T03:56:21.035916Z",
          "shell.execute_reply.started": "2021-10-09T03:56:13.671632Z",
          "shell.execute_reply": "2021-10-09T03:56:21.034901Z"
        },
        "trusted": true,
        "id": "K_yaNApCRzRI"
      },
      "source": [
        "#Tokenizing the captions list and padding them\n",
        "\n",
        "top_k = 18000\n",
        "tokenizer = tf.keras.preprocessing.text.Tokenizer(num_words=top_k,\n",
        "                                                 oov_token=\"<unk>\",\n",
        "                                                 filters='!\"#$%&()*+.,-/:;=?@[\\]^_`{|}~ ')\n",
        "\n",
        "tokenizer.fit_on_texts(captions_list)\n",
        "tokenizer.word_index['<pad>'] = 0\n",
        "tokenizer.index_word[0] = '<pad>'\n",
        "\n",
        "captions_list_seq = tokenizer.texts_to_sequences(captions_list)\n",
        "captions_list_seq = tf.keras.preprocessing.sequence.pad_sequences(captions_list_seq, padding='post')\n",
        "\n",
        "#Will be used in prediction step\n",
        "token_start = tokenizer.word_index[START_TOKEN.strip()]\n",
        "token_end = tokenizer.word_index[END_TOKEN.strip()]\n"
      ],
      "execution_count": null,
      "outputs": []
    },
    {
      "cell_type": "code",
      "metadata": {
        "execution": {
          "iopub.status.busy": "2021-10-09T03:56:21.037379Z",
          "iopub.execute_input": "2021-10-09T03:56:21.037693Z",
          "iopub.status.idle": "2021-10-09T03:56:21.103831Z",
          "shell.execute_reply.started": "2021-10-09T03:56:21.037659Z",
          "shell.execute_reply": "2021-10-09T03:56:21.102819Z"
        },
        "trusted": true,
        "colab": {
          "base_uri": "https://localhost:8080/"
        },
        "id": "CJa8nFZfRzRI",
        "outputId": "cdc22961-396c-478d-a4e8-153a30804053"
      },
      "source": [
        "#A function to get the maximum length of the biggest sentence in the captions list\n",
        "\n",
        "def calc_max_length(tensor):\n",
        "    return max(len(t) for t in tensor)\n",
        "\n",
        "max_length = calc_max_length(captions_list_seq) \n",
        "print(max_length)\n"
      ],
      "execution_count": null,
      "outputs": [
        {
          "output_type": "stream",
          "name": "stdout",
          "text": [
            "74\n"
          ]
        }
      ]
    },
    {
      "cell_type": "code",
      "metadata": {
        "execution": {
          "iopub.status.busy": "2021-10-09T03:56:21.105118Z",
          "iopub.execute_input": "2021-10-09T03:56:21.105443Z",
          "iopub.status.idle": "2021-10-09T03:56:21.109398Z",
          "shell.execute_reply.started": "2021-10-09T03:56:21.105377Z",
          "shell.execute_reply": "2021-10-09T03:56:21.108686Z"
        },
        "trusted": true,
        "id": "GH5qWHZwRzRJ"
      },
      "source": [
        "#captions_list_seq[:5]"
      ],
      "execution_count": null,
      "outputs": []
    },
    {
      "cell_type": "markdown",
      "metadata": {
        "id": "N5LG5NR4RzRJ"
      },
      "source": [
        "# Train/Val Split"
      ]
    },
    {
      "cell_type": "code",
      "metadata": {
        "execution": {
          "iopub.status.busy": "2021-10-09T03:56:21.110583Z",
          "iopub.execute_input": "2021-10-09T03:56:21.110829Z",
          "iopub.status.idle": "2021-10-09T03:56:21.956691Z",
          "shell.execute_reply.started": "2021-10-09T03:56:21.110800Z",
          "shell.execute_reply": "2021-10-09T03:56:21.955787Z"
        },
        "trusted": true,
        "id": "VI3d2nELRzRK"
      },
      "source": [
        "# Importing some libraries for splitting data\n",
        "# Since each image has 5 captions so if we randomly shuffle them then some train data\n",
        "# will leak into the Validation data\n",
        "# hence we will use kfold groupfold method to make sure each caption of the same image stays in the\n",
        "# same set\n",
        "\n",
        "from sklearn.model_selection import KFold, GroupKFold\n",
        "\n",
        "# 40 splits = 2.5 Val Data\n",
        "kf = GroupKFold(n_splits=40).split(X=all_img_name_vector, groups=all_img_name_vector)\n",
        "\n",
        "for ind, (tr, val) in enumerate(kf):\n",
        "    img_train = np.array(all_img_name_vector)[tr] # np.array make indexing possible\n",
        "    img_val = np.array(all_img_name_vector)[val]\n",
        "    \n",
        "    cap_train =  captions_list_seq[tr]\n",
        "    cap_val =  captions_list_seq[val]\n",
        "    \n",
        "    break\n",
        "\n",
        "# Image and captions train and validation sets created"
      ],
      "execution_count": null,
      "outputs": []
    },
    {
      "cell_type": "code",
      "metadata": {
        "execution": {
          "iopub.status.busy": "2021-10-09T03:56:21.958265Z",
          "iopub.execute_input": "2021-10-09T03:56:21.959388Z",
          "iopub.status.idle": "2021-10-09T03:56:21.964318Z",
          "shell.execute_reply.started": "2021-10-09T03:56:21.959333Z",
          "shell.execute_reply": "2021-10-09T03:56:21.963029Z"
        },
        "trusted": true,
        "id": "AEuHQepURzRK"
      },
      "source": [
        "#len(img_val)"
      ],
      "execution_count": null,
      "outputs": []
    },
    {
      "cell_type": "code",
      "metadata": {
        "execution": {
          "iopub.status.busy": "2021-10-09T03:56:21.966069Z",
          "iopub.execute_input": "2021-10-09T03:56:21.966445Z",
          "iopub.status.idle": "2021-10-09T03:56:23.064869Z",
          "shell.execute_reply.started": "2021-10-09T03:56:21.966400Z",
          "shell.execute_reply": "2021-10-09T03:56:23.063850Z"
        },
        "trusted": true,
        "id": "TtZtRJg5RzRO"
      },
      "source": [
        "# Function to create a list of image features by \n",
        "# mapping image path to it's features using the image_features dictionary\n",
        "\n",
        "def get_image_encoding(image_ids):\n",
        "   encoding=[]\n",
        "   for idx in image_ids:\n",
        "     encoding.append(images_features[idx.split('/')[-1]])\n",
        "   return np.array(encoding)\n",
        "\n",
        "encode_train=get_image_encoding(img_train)\n",
        "encode_val=get_image_encoding(img_val)"
      ],
      "execution_count": null,
      "outputs": []
    },
    {
      "cell_type": "code",
      "metadata": {
        "execution": {
          "iopub.status.busy": "2021-10-09T03:56:23.066364Z",
          "iopub.execute_input": "2021-10-09T03:56:23.066751Z",
          "iopub.status.idle": "2021-10-09T03:56:23.075987Z",
          "shell.execute_reply.started": "2021-10-09T03:56:23.066705Z",
          "shell.execute_reply": "2021-10-09T03:56:23.074668Z"
        },
        "trusted": true,
        "id": "2rpD8_A6RzRS"
      },
      "source": [
        "# Function to create dataset that is to be fed in the model\n",
        "# Using tensor.data to apply inner function to all of the dataset easily \n",
        "\n",
        "def create_dataset(data,labels,batch_size):\n",
        "  def map_func(img_encode, cap):\n",
        "    x = {'decoder_input': cap[0:-1],'encoder_input': img_encode}\n",
        "    y = {'decoder_output': cap[1:]}\n",
        "    \n",
        "    return x,y\n",
        "  \n",
        "  \n",
        "  dataset = tf.data.Dataset.from_tensor_slices((data,labels))\n",
        "  dataset = dataset.map(map_func)\n",
        "  dataset = dataset.repeat()\n",
        "  dataset = dataset.shuffle(data.shape[0]).batch(batch_size)\n",
        "  dataset = dataset.prefetch(buffer_size=tf.data.experimental.AUTOTUNE)\n",
        "\n",
        "  return dataset"
      ],
      "execution_count": null,
      "outputs": []
    },
    {
      "cell_type": "markdown",
      "metadata": {
        "id": "eLe6Q8eWRzRU"
      },
      "source": [
        "# Model"
      ]
    },
    {
      "cell_type": "code",
      "metadata": {
        "execution": {
          "iopub.status.busy": "2021-10-09T03:56:23.077695Z",
          "iopub.execute_input": "2021-10-09T03:56:23.078075Z",
          "iopub.status.idle": "2021-10-09T03:56:35.253507Z",
          "shell.execute_reply.started": "2021-10-09T03:56:23.078029Z",
          "shell.execute_reply": "2021-10-09T03:56:35.252306Z"
        },
        "trusted": true,
        "id": "u3adD3-kRzRV",
        "colab": {
          "base_uri": "https://localhost:8080/"
        },
        "outputId": "0c3c41c5-0089-465b-c5dc-9a09f1fb82dd"
      },
      "source": [
        "# Some Input values, Batch size according to TPU ---- go to top\n",
        "\n",
        "BATCH_SIZE = BATCH_SIZE\n",
        "embedding_dim = 512\n",
        "embedding_size = 512\n",
        "units = 512\n",
        "vocab_size = len(tokenizer.word_index) \n",
        "max_len = max_length -1\n",
        "encoder_shape=2048\n",
        "steps_per_epoch = int(len(img_train) / BATCH_SIZE)\n",
        "\n",
        "\n",
        "# To train using TPU\n",
        "\n",
        "with strategy.scope():\n",
        "        \n",
        "    #Layers applied to the CNN block of the model\n",
        "    x_input = Input(shape=(encoder_shape,),name='encoder_input')\n",
        "    x = Dense(512,activation='relu')(x_input)\n",
        "    x = RepeatVector(max_len,name='encoder_dense')(x)\n",
        "    \n",
        "    #LAyer applied to the RNN block of the model\n",
        "    y1_input = Input(shape=(None, ), name='decoder_input')\n",
        "    y1 = Embedding(input_dim=vocab_size,\n",
        "                                  output_dim=embedding_dim,input_length=max_len,\n",
        "                                  name='decoder_embedding')(y1_input)\n",
        "    y1 = LSTM(units, name='decoder_gru1',\n",
        "                       return_sequences=True)(y1)\n",
        "    y1 = LSTM(units, name='decoder_gru2',\n",
        "                       return_sequences=True)(y1)\n",
        "    y1 = LSTM(units, name='decoder_gru3',\n",
        "                       return_sequences=True)(y1)\n",
        "    y1 = Dropout(0.8)(y1)\n",
        "    \n",
        "    #Concatenating the CNN and RNN block and then adding more layers \n",
        "    conca = Concatenate()([x, y1])\n",
        "    y2 = LSTM(1024, return_sequences=True)(conca)\n",
        "    y2 = Dropout(0.8)(y2)\n",
        "    y2 = LSTM(512, return_sequences=True)(y2)\n",
        "    y2 = LSTM(512, return_sequences=True)(y2)\n",
        "    y2 = Dropout(0.8)(y2)\n",
        "    y2_output = Dense(vocab_size,\n",
        "                         activation='linear',\n",
        "                         name='decoder_output')(y2)\n",
        "\n",
        "    model = Model(inputs=[x_input, y1_input],\n",
        "                          outputs=[y2_output])\n",
        "\n",
        "    model.summary()\n",
        "    \n",
        "\n",
        "    model.compile(optimizer=Adam(lr=1e-3),\n",
        "                  loss= SparseCategoricalCrossentropy(from_logits=True), \n",
        "                  metrics=['accuracy']) \n",
        "    \n",
        "    \n",
        "    #to stop if validation stops increasing, to increase LR on platue, to save the best model\n",
        "    callbacks = [\n",
        "        tf.keras.callbacks.EarlyStopping(patience=4, monitor='val_loss'),\n",
        "        tf.keras.callbacks.ReduceLROnPlateau(monitor='val_loss',factor=0.2, patience=3, min_lr=0.001),\n",
        "    ]\n"
      ],
      "execution_count": null,
      "outputs": [
        {
          "output_type": "stream",
          "name": "stdout",
          "text": [
            "Model: \"model_4\"\n",
            "__________________________________________________________________________________________________\n",
            "Layer (type)                    Output Shape         Param #     Connected to                     \n",
            "==================================================================================================\n",
            "decoder_input (InputLayer)      [(None, None)]       0                                            \n",
            "__________________________________________________________________________________________________\n",
            "decoder_embedding (Embedding)   (None, None, 512)    9161728     decoder_input[0][0]              \n",
            "__________________________________________________________________________________________________\n",
            "decoder_gru1 (LSTM)             (None, None, 512)    2099200     decoder_embedding[0][0]          \n",
            "__________________________________________________________________________________________________\n",
            "encoder_input (InputLayer)      [(None, 2048)]       0                                            \n",
            "__________________________________________________________________________________________________\n",
            "decoder_gru2 (LSTM)             (None, None, 512)    2099200     decoder_gru1[0][0]               \n",
            "__________________________________________________________________________________________________\n",
            "dense_1 (Dense)                 (None, 512)          1049088     encoder_input[0][0]              \n",
            "__________________________________________________________________________________________________\n",
            "decoder_gru3 (LSTM)             (None, None, 512)    2099200     decoder_gru2[0][0]               \n",
            "__________________________________________________________________________________________________\n",
            "encoder_dense (RepeatVector)    (None, 73, 512)      0           dense_1[0][0]                    \n",
            "__________________________________________________________________________________________________\n",
            "dropout_3 (Dropout)             (None, None, 512)    0           decoder_gru3[0][0]               \n",
            "__________________________________________________________________________________________________\n",
            "concatenate_1 (Concatenate)     (None, 73, 1024)     0           encoder_dense[0][0]              \n",
            "                                                                 dropout_3[0][0]                  \n",
            "__________________________________________________________________________________________________\n",
            "lstm_3 (LSTM)                   (None, 73, 1024)     8392704     concatenate_1[0][0]              \n",
            "__________________________________________________________________________________________________\n",
            "dropout_4 (Dropout)             (None, 73, 1024)     0           lstm_3[0][0]                     \n",
            "__________________________________________________________________________________________________\n",
            "lstm_4 (LSTM)                   (None, 73, 512)      3147776     dropout_4[0][0]                  \n",
            "__________________________________________________________________________________________________\n",
            "lstm_5 (LSTM)                   (None, 73, 512)      2099200     lstm_4[0][0]                     \n",
            "__________________________________________________________________________________________________\n",
            "dropout_5 (Dropout)             (None, 73, 512)      0           lstm_5[0][0]                     \n",
            "__________________________________________________________________________________________________\n",
            "decoder_output (Dense)          (None, 73, 17894)    9179622     dropout_5[0][0]                  \n",
            "==================================================================================================\n",
            "Total params: 39,327,718\n",
            "Trainable params: 39,327,718\n",
            "Non-trainable params: 0\n",
            "__________________________________________________________________________________________________\n"
          ]
        }
      ]
    },
    {
      "cell_type": "code",
      "metadata": {
        "execution": {
          "iopub.status.busy": "2021-10-09T03:56:35.255131Z",
          "iopub.execute_input": "2021-10-09T03:56:35.255986Z",
          "iopub.status.idle": "2021-10-09T03:56:50.307439Z",
          "shell.execute_reply.started": "2021-10-09T03:56:35.255927Z",
          "shell.execute_reply": "2021-10-09T03:56:50.306368Z"
        },
        "trusted": true,
        "id": "giqZTzsXRzRY"
      },
      "source": [
        "#actually creating the train and val set using the function created above\n",
        "\n",
        "train_dataset=create_dataset(encode_train,cap_train,BATCH_SIZE)\n",
        "val_dataset=create_dataset(encode_val,cap_val,BATCH_SIZE)"
      ],
      "execution_count": null,
      "outputs": []
    },
    {
      "cell_type": "code",
      "metadata": {
        "execution": {
          "iopub.status.busy": "2021-10-09T03:56:50.309791Z",
          "iopub.execute_input": "2021-10-09T03:56:50.310290Z",
          "iopub.status.idle": "2021-10-09T04:01:37.639171Z",
          "shell.execute_reply.started": "2021-10-09T03:56:50.310251Z",
          "shell.execute_reply": "2021-10-09T04:01:37.637929Z"
        },
        "trusted": true,
        "id": "9IdEEp6mRzRZ",
        "colab": {
          "base_uri": "https://localhost:8080/"
        },
        "outputId": "37ccaa18-d346-4c6b-a051-68c10cf9378a"
      },
      "source": [
        "model.fit(train_dataset, epochs=50,\n",
        "          validation_data=val_dataset,\n",
        "          steps_per_epoch=steps_per_epoch,\n",
        "          validation_steps=3,\n",
        "      callbacks=callbacks)"
      ],
      "execution_count": null,
      "outputs": [
        {
          "output_type": "stream",
          "name": "stdout",
          "text": [
            "Epoch 1/50\n",
            "302/302 [==============================] - 130s 325ms/step - loss: 1.2579 - accuracy: 0.8442 - val_loss: 0.9217 - val_accuracy: 0.8562\n",
            "Epoch 2/50\n",
            "302/302 [==============================] - 89s 295ms/step - loss: 0.9081 - accuracy: 0.8624 - val_loss: 0.8417 - val_accuracy: 0.8665\n",
            "Epoch 3/50\n",
            "302/302 [==============================] - 89s 295ms/step - loss: 0.8416 - accuracy: 0.8686 - val_loss: 0.7938 - val_accuracy: 0.8715\n",
            "Epoch 4/50\n",
            "302/302 [==============================] - 89s 295ms/step - loss: 0.8141 - accuracy: 0.8705 - val_loss: 0.7742 - val_accuracy: 0.8732\n",
            "Epoch 5/50\n",
            "302/302 [==============================] - 89s 295ms/step - loss: 0.7866 - accuracy: 0.8730 - val_loss: 0.7279 - val_accuracy: 0.8774\n",
            "Epoch 6/50\n",
            "302/302 [==============================] - 89s 295ms/step - loss: 0.7585 - accuracy: 0.8752 - val_loss: 0.6978 - val_accuracy: 0.8801\n",
            "Epoch 7/50\n",
            "302/302 [==============================] - 89s 295ms/step - loss: 0.7300 - accuracy: 0.8775 - val_loss: 0.6699 - val_accuracy: 0.8828\n",
            "Epoch 8/50\n",
            "302/302 [==============================] - 89s 295ms/step - loss: 0.7061 - accuracy: 0.8792 - val_loss: 0.6666 - val_accuracy: 0.8812\n",
            "Epoch 9/50\n",
            "302/302 [==============================] - 89s 295ms/step - loss: 0.6845 - accuracy: 0.8810 - val_loss: 0.6466 - val_accuracy: 0.8837\n",
            "Epoch 10/50\n",
            "302/302 [==============================] - 89s 295ms/step - loss: 0.6647 - accuracy: 0.8827 - val_loss: 0.6401 - val_accuracy: 0.8839\n",
            "Epoch 11/50\n",
            "302/302 [==============================] - 89s 295ms/step - loss: 0.6507 - accuracy: 0.8838 - val_loss: 0.6135 - val_accuracy: 0.8883\n",
            "Epoch 12/50\n",
            "302/302 [==============================] - 89s 295ms/step - loss: 0.6369 - accuracy: 0.8851 - val_loss: 0.5997 - val_accuracy: 0.8902\n",
            "Epoch 13/50\n",
            "302/302 [==============================] - 89s 295ms/step - loss: 0.6244 - accuracy: 0.8863 - val_loss: 0.6079 - val_accuracy: 0.8879\n",
            "Epoch 14/50\n",
            "302/302 [==============================] - 89s 295ms/step - loss: 0.6132 - accuracy: 0.8874 - val_loss: 0.5922 - val_accuracy: 0.8900\n",
            "Epoch 15/50\n",
            "302/302 [==============================] - 89s 296ms/step - loss: 0.6036 - accuracy: 0.8884 - val_loss: 0.5716 - val_accuracy: 0.8936\n",
            "Epoch 16/50\n",
            "302/302 [==============================] - 89s 296ms/step - loss: 0.5941 - accuracy: 0.8893 - val_loss: 0.5884 - val_accuracy: 0.8908\n",
            "Epoch 17/50\n",
            "302/302 [==============================] - 89s 296ms/step - loss: 0.5845 - accuracy: 0.8904 - val_loss: 0.5926 - val_accuracy: 0.8900\n",
            "Epoch 18/50\n",
            "302/302 [==============================] - 89s 296ms/step - loss: 0.5779 - accuracy: 0.8911 - val_loss: 0.5850 - val_accuracy: 0.8903\n",
            "Epoch 19/50\n",
            "302/302 [==============================] - 89s 296ms/step - loss: 0.5706 - accuracy: 0.8918 - val_loss: 0.5786 - val_accuracy: 0.8911\n"
          ]
        },
        {
          "output_type": "execute_result",
          "data": {
            "text/plain": [
              "<keras.callbacks.History at 0x7f78c215dd90>"
            ]
          },
          "metadata": {},
          "execution_count": 80
        }
      ]
    },
    {
      "cell_type": "code",
      "metadata": {
        "execution": {
          "iopub.status.busy": "2021-10-09T04:01:37.641448Z",
          "iopub.execute_input": "2021-10-09T04:01:37.641829Z",
          "iopub.status.idle": "2021-10-09T04:01:40.971965Z",
          "shell.execute_reply.started": "2021-10-09T04:01:37.641788Z",
          "shell.execute_reply": "2021-10-09T04:01:40.970781Z"
        },
        "trusted": true,
        "id": "eu8tdcFHRzRZ"
      },
      "source": [
        "#Saving stuff for later use\n",
        "model.save('model_ImageCap_Umair.h5')\n",
        "model.save_weights('model_ImageCap_Umair_weights.h5')\n",
        "with open('tokenizer.pickle', 'wb') as handle:\n",
        "    pickle.dump(tokenizer, handle, protocol=pickle.HIGHEST_PROTOCOL)"
      ],
      "execution_count": null,
      "outputs": []
    },
    {
      "cell_type": "markdown",
      "metadata": {
        "id": "qS9-7geeRzRa"
      },
      "source": [
        "# Prediction"
      ]
    },
    {
      "cell_type": "code",
      "metadata": {
        "execution": {
          "iopub.status.busy": "2021-10-09T04:01:40.973747Z",
          "iopub.execute_input": "2021-10-09T04:01:40.974620Z",
          "iopub.status.idle": "2021-10-09T04:01:56.034313Z",
          "shell.execute_reply.started": "2021-10-09T04:01:40.974575Z",
          "shell.execute_reply": "2021-10-09T04:01:56.033284Z"
        },
        "trusted": true,
        "id": "RnOriu4jRzRb",
        "colab": {
          "base_uri": "https://localhost:8080/",
          "height": 323
        },
        "outputId": "988503a8-b840-451f-bfaf-9a480d1295b8"
      },
      "source": [
        "#Function to load an image from flickr database and predict its caption\n",
        "\n",
        "def generate_caption(image_id,true_caption,max_tokens=max_len):\n",
        "    \n",
        "    encoder_input = images_features[image_id.split('/')[-1]]\n",
        "    encoder_input = np.expand_dims(encoder_input, axis=0)\n",
        "\n",
        "    shape = (1, max_tokens)\n",
        "    decoder_input = np.zeros(shape=shape, dtype=np.int)\n",
        "\n",
        "    token_id = token_start\n",
        "  \n",
        "    output=[]\n",
        "\n",
        "    count_tokens = 0\n",
        "\n",
        "    while token_id != token_end and count_tokens < max_tokens:\n",
        "        \n",
        "        decoder_input[0, count_tokens] = token_id\n",
        "\n",
        "        input_data ={'encoder_input':encoder_input ,'decoder_input': decoder_input}\n",
        "        \n",
        "        predict = model.predict(input_data)\n",
        "        \n",
        "        token_id = np.argmax(predict[0, count_tokens, :])\n",
        "        \n",
        "        output.append(token_id)\n",
        "        \n",
        "        count_tokens += 1\n",
        "    \n",
        "    print('Predicted caption',tokenizer.sequences_to_texts([output]))\n",
        "    print('True captions',tokenizer.sequences_to_texts([true_caption]))\n",
        "    \n",
        "    from tensorflow.keras.preprocessing import image\n",
        "\n",
        "    def preprocess(image_path):\n",
        "        img = image.load_img(image_path, target_size=(299, 299))\n",
        "        x = image.img_to_array(img)\n",
        "        x = np.expand_dims(x, axis=0)\n",
        "\n",
        "        x /= 255.\n",
        "        return x\n",
        "\n",
        "    plt.imshow(np.squeeze(preprocess(image_id)))\n",
        "    \n",
        "\n",
        "# Change the number to see the results\n",
        "generate_caption(img_val[200],cap_val[200])"
      ],
      "execution_count": null,
      "outputs": [
        {
          "output_type": "stream",
          "name": "stdout",
          "text": [
            "Predicted caption ['baseball player is playing baseball <end>']\n",
            "True captions ['<start> two baseball players in blue jerseys and white pants stand on pitcher mound <end> <pad> <pad> <pad> <pad> <pad> <pad> <pad> <pad> <pad> <pad> <pad> <pad> <pad> <pad> <pad> <pad> <pad> <pad> <pad> <pad> <pad> <pad> <pad> <pad> <pad> <pad> <pad> <pad> <pad> <pad> <pad> <pad> <pad> <pad> <pad> <pad> <pad> <pad> <pad> <pad> <pad> <pad> <pad> <pad> <pad> <pad> <pad> <pad> <pad> <pad> <pad> <pad> <pad> <pad> <pad> <pad> <pad> <pad> <pad>']\n"
          ]
        },
        {
          "output_type": "display_data",
          "data": {
            "image/png": "[encoded data removed]",
            "text/plain": [
              "<Figure size 432x288 with 1 Axes>"
            ]
          },
          "metadata": {
            "needs_background": "light"
          }
        }
      ]
    },
    {
      "cell_type": "markdown",
      "metadata": {
        "id": "YCzrv8kHRzRf"
      },
      "source": [
        "**Code below can be used inside an application or a web browser**\n",
        "**To predict caption of any image uploaded**"
      ]
    },
    {
      "cell_type": "code",
      "metadata": {
        "execution": {
          "iopub.status.busy": "2021-10-09T04:01:56.036584Z",
          "iopub.execute_input": "2021-10-09T04:01:56.037581Z",
          "iopub.status.idle": "2021-10-09T04:02:10.076552Z",
          "shell.execute_reply.started": "2021-10-09T04:01:56.037520Z",
          "shell.execute_reply": "2021-10-09T04:02:10.075556Z"
        },
        "trusted": true,
        "id": "OavuwjwYRzRg",
        "colab": {
          "base_uri": "https://localhost:8080/",
          "height": 340
        },
        "outputId": "640c8d98-eb95-421a-e5ff-bd8d364c5db6"
      },
      "source": [
        "#Import Librarires\n",
        "import tensorflow as tf\n",
        "import matplotlib.pyplot as plt\n",
        "import numpy as np\n",
        "import pickle\n",
        "from tensorflow import keras\n",
        "from tensorflow.keras.applications import ResNet50\n",
        "from tensorflow.keras.models import Model\n",
        "from tensorflow.keras.models import load_model\n",
        "from tensorflow.keras.preprocessing import image\n",
        "\n",
        "\n",
        "\n",
        "#Import resnet model for feature extraction\n",
        "extract_model = ResNet50(include_top=True)\n",
        "last = extract_model.layers[-2].output\n",
        "image_features_extract_model = Model(inputs = extract_model.input,outputs = last)\n",
        "\n",
        "#Import the CNN RNN model  \n",
        "reconstructed_model = load_model(\"/content/model_ImageCap_Umair.h5\")\n",
        "\n",
        "#Import tokenizor from pickle file\n",
        "with open('/content/tokenizer.pickle', 'rb') as handle:\n",
        "    tokenizer = pickle.load(handle)\n",
        "    \n",
        "\n",
        "    \n",
        "#State vocab size, max length(max tokens)\n",
        "vocab_size = len(tokenizer.word_index) \n",
        "max_tokens = 73\n",
        "START_TOKEN = '<start> '\n",
        "END_TOKEN = ' <end>'\n",
        "token_start = tokenizer.word_index[START_TOKEN.strip()]\n",
        "token_end = tokenizer.word_index[END_TOKEN.strip()]\n",
        "\n",
        "\n",
        "#Import the file, incase of an application the user will upload the file here\n",
        "image_path = '/content/flickr30/flickr30k_images/flickr30k_images/1000366164.jpg'\n",
        "\n",
        "#Presprocess the image\n",
        "img = image.load_img(image_path, target_size=(224, 224))\n",
        "x = image.img_to_array(img)\n",
        "x = np.expand_dims(x, axis=0)\n",
        "image = tf.keras.applications.resnet.preprocess_input(x)\n",
        "\n",
        "#Use the prediction coding,extarct image features from ResNet50 model and RNN features from ------>\n",
        "#Reconstructed model, use that model to predict\n",
        "encoder_input = image_features_extract_model.predict(image)\n",
        "encoder_input = tf.reshape(encoder_input,\n",
        "                             (2048, ))\n",
        "\n",
        "encoder_input = np.expand_dims(encoder_input, axis=0)\n",
        "\n",
        "shape = (1, max_tokens)\n",
        "decoder_input = np.zeros(shape=shape, dtype=np.int)\n",
        "\n",
        "token_id = token_start\n",
        "\n",
        "output=[]\n",
        "\n",
        "count_tokens = 0\n",
        "\n",
        "while token_id != token_end and count_tokens < max_tokens:\n",
        "    \n",
        "    decoder_input[0, count_tokens] = token_id\n",
        "\n",
        "    input_data ={'encoder_input':encoder_input ,'decoder_input': decoder_input}\n",
        "    \n",
        "    predict = reconstructed_model.predict(input_data)\n",
        "    \n",
        "    token_id = np.argmax(predict[0, count_tokens, :])\n",
        "    \n",
        "    output.append(token_id)\n",
        "    \n",
        "    count_tokens += 1\n",
        "\n",
        "#Print prediction    \n",
        "final = tokenizer.sequences_to_texts([output])\n",
        "print(final)\n",
        "#Print Image\n",
        "plt.imshow(np.squeeze(x /255.))"
      ],
      "execution_count": null,
      "outputs": [
        {
          "output_type": "stream",
          "name": "stderr",
          "text": [
            "WARNING:matplotlib.image:Clipping input data to the valid range for imshow with RGB data ([0..1] for floats or [0..255] for integers).\n"
          ]
        },
        {
          "output_type": "stream",
          "name": "stdout",
          "text": [
            "['man in white shirt is sitting at table in kitchen <end>']\n"
          ]
        },
        {
          "output_type": "execute_result",
          "data": {
            "text/plain": [
              "<matplotlib.image.AxesImage at 0x7f78c81ae910>"
            ]
          },
          "metadata": {},
          "execution_count": 83
        },
        {
          "output_type": "display_data",
          "data": {
            "image/png": "[encoded data removed]",
            "text/plain": [
              "<Figure size 432x288 with 1 Axes>"
            ]
          },
          "metadata": {
            "needs_background": "light"
          }
        }
      ]
    }
  ]
}
